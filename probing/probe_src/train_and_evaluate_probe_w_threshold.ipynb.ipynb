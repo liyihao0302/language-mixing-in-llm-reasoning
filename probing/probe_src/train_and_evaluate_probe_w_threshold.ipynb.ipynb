{
 "cells": [
  {
   "cell_type": "code",
   "execution_count": 0,
   "metadata": {
    "application/vnd.databricks.v1+cell": {
     "cellMetadata": {
      "byteLimit": 2048000,
      "rowLimit": 10000
     },
     "inputWidgets": {},
     "nuid": "f3e68256-f925-4764-81ec-6c7aa9d9c4cb",
     "showTitle": false,
     "tableResultSettingsMap": {},
     "title": ""
    }
   },
   "outputs": [],
   "source": [
    "%load_ext autoreload\n",
    "%autoreload 2"
   ]
  },
  {
   "cell_type": "markdown",
   "metadata": {
    "application/vnd.databricks.v1+cell": {
     "cellMetadata": {},
     "inputWidgets": {},
     "nuid": "6f9104d8-24aa-4f13-9693-be7d879c69f9",
     "showTitle": false,
     "tableResultSettingsMap": {},
     "title": ""
    }
   },
   "source": [
    "## Imports and Configuration"
   ]
  },
  {
   "cell_type": "code",
   "execution_count": 0,
   "metadata": {
    "application/vnd.databricks.v1+cell": {
     "cellMetadata": {
      "byteLimit": 2048000,
      "rowLimit": 10000
     },
     "inputWidgets": {},
     "nuid": "ab95d3c6-4932-4c6e-afb2-d923368b7176",
     "showTitle": false,
     "tableResultSettingsMap": {},
     "title": ""
    }
   },
   "outputs": [],
   "source": [
    "!pip install python-box\n",
    "%restart_python"
   ]
  },
  {
   "cell_type": "code",
   "execution_count": 0,
   "metadata": {
    "application/vnd.databricks.v1+cell": {
     "cellMetadata": {
      "byteLimit": 2048000,
      "rowLimit": 10000
     },
     "inputWidgets": {},
     "nuid": "05834608-e71a-4ea0-b440-86e31e3457b1",
     "showTitle": false,
     "tableResultSettingsMap": {},
     "title": ""
    }
   },
   "outputs": [],
   "source": [
    "import pandas as pd\n",
    "import torch\n",
    "import mlflow\n",
    "from probe.train_supcon import train_supcon_probe\n",
    "from probe.test_supcon import test_supcon_probe\n",
    "from pathlib import Path"
   ]
  },
  {
   "cell_type": "code",
   "execution_count": 0,
   "metadata": {
    "application/vnd.databricks.v1+cell": {
     "cellMetadata": {
      "byteLimit": 2048000,
      "rowLimit": 10000
     },
     "inputWidgets": {},
     "nuid": "e10931aa-e3ce-4f21-acb1-d13e95ed8ac7",
     "showTitle": false,
     "tableResultSettingsMap": {},
     "title": ""
    }
   },
   "outputs": [],
   "source": [
    "# Base path for dataset outputs\n",
    "DATA_ROOT = \"/Workspace/Users/xinji@pennmedicine.upenn.edu/research/probing_activation_outputs/\"\n",
    "\n",
    "# Define experiment\n",
    "EXPERIMENT_PATH = \"/Workspace/Users/xinji@pennmedicine.upenn.edu/mlflow_logs/6200_E2E_testing\"\n",
    "mlflow.set_experiment(EXPERIMENT_PATH)\n",
    "\n",
    "# Hardcoded model settings\n",
    "LAYERS = [47, 31, 15]  # [63, 47, 31, 15, 0] \n",
    "USE_METADATA = True\n",
    "PCA_DIM = 1024\n",
    "PROJECTION_DIM = 512\n",
    "HIDDEN_DIM = 512\n",
    "ALPHA = 0.5\n",
    "TEMPERATURE = 0.1\n",
    "CLASS_WEIGHTS = [1.0, 0.1, 1.0]\n",
    "NUM_EPOCHS = 30\n",
    "BATCH_SIZE = 16\n",
    "LEARNING_RATE = 1e-4\n",
    "CHECKPOINT_PATH = \"checkpoints/supcon_probe_final.pt\"\n",
    "DATASET_CONFIGS = [\n",
    "    (DATA_ROOT + \"math500_CH_1\", \"stats_math500.csv\", \"activations_math500.h5\"),\n",
    "    (DATA_ROOT +\"math500_CH_2\", \"stats_math500.csv\", \"activations_math500.h5\"),\n",
    "    # (DATA_ROOT +\"math500_CH_3\", \"stats_math500.csv\", \"activations_math500.h5\"),\n",
    "    (DATA_ROOT +\"gaokao_mathqa_CH\", \"stats_gaokao_mathqa.csv\", \"activations_gaokao_mathqa.h5\"),\n",
    "    (DATA_ROOT +\"gaokao_cloze_CH\", \"stats_gaokao_cloze.csv\", \"activations_gaokao_cloze.h5\")\n",
    "]\n",
    "\n"
   ]
  },
  {
   "cell_type": "markdown",
   "metadata": {
    "application/vnd.databricks.v1+cell": {
     "cellMetadata": {},
     "inputWidgets": {},
     "nuid": "d73cf067-0e52-466d-bd7c-d54d967345ea",
     "showTitle": false,
     "tableResultSettingsMap": {},
     "title": ""
    }
   },
   "source": [
    "## Train SupCon Probe"
   ]
  },
  {
   "cell_type": "code",
   "execution_count": 0,
   "metadata": {
    "application/vnd.databricks.v1+cell": {
     "cellMetadata": {
      "byteLimit": 2048000,
      "rowLimit": 10000
     },
     "inputWidgets": {},
     "nuid": "8e516d9b-8cc4-4a92-9469-00f3407c963c",
     "showTitle": false,
     "tableResultSettingsMap": {},
     "title": ""
    }
   },
   "outputs": [],
   "source": [
    "with mlflow.start_run(run_name=\"train_supcon_probe\") as run:\n",
    "    model, val_logits, val_labels, val_is_natural, test_data, (pca, scaler) = train_supcon_probe(\n",
    "        dataset_configs=DATASET_CONFIGS,\n",
    "        layers=LAYERS,\n",
    "        input_dim = PCA_DIM + 3,\n",
    "        use_metadata=USE_METADATA,\n",
    "        projection_dim=PROJECTION_DIM,\n",
    "        hidden_dim=HIDDEN_DIM,\n",
    "        pca_dim=PCA_DIM,\n",
    "        alpha=ALPHA,\n",
    "        temperature=TEMPERATURE,\n",
    "        class_weights=CLASS_WEIGHTS,\n",
    "        batch_size=BATCH_SIZE,\n",
    "        num_epochs=NUM_EPOCHS,\n",
    "        learning_rate=LEARNING_RATE,\n",
    "        save_path=CHECKPOINT_PATH,\n",
    "    )\n",
    "    mlflow.log_param(\"input_dim\", PCA_DIM)\n",
    "    mlflow.log_param(\"dataset_configs\", DATASET_CONFIGS)\n",
    "    mlflow.log_param(\"projection_dim\", PROJECTION_DIM)\n",
    "    mlflow.log_param(\"alpha\", ALPHA)\n",
    "    mlflow.log_param(\"temperature\", TEMPERATURE)\n",
    "    mlflow.log_param(\"batch_size\", BATCH_SIZE)\n",
    "    mlflow.log_param(\"num_epochs\", NUM_EPOCHS)\n",
    "    mlflow.log_param(\"learning_rate\", LEARNING_RATE)\n",
    "    mlflow.log_param(\"hidden_dim\", HIDDEN_DIM)\n",
    "    mlflow.log_param(\"layers\", str(LAYERS))\n",
    "    mlflow.log_param(\"checkpoint\", CHECKPOINT_PATH)\n"
   ]
  },
  {
   "cell_type": "code",
   "execution_count": 0,
   "metadata": {
    "application/vnd.databricks.v1+cell": {
     "cellMetadata": {
      "byteLimit": 2048000,
      "rowLimit": 10000
     },
     "inputWidgets": {},
     "nuid": "378b954d-3f5f-481f-9112-2404a97fc7ca",
     "showTitle": false,
     "tableResultSettingsMap": {},
     "title": ""
    }
   },
   "outputs": [],
   "source": [
    "import joblib\n",
    "\n",
    "joblib.dump(pca, \"checkpoints/pca.pkl\")\n",
    "joblib.dump(scaler, \"checkpoints/scaler.pkl\")\n",
    "mlflow.log_artifact(\"checkpoints/pca.pkl\")\n",
    "mlflow.log_artifact(\"checkpoints/scaler.pkl\")\n"
   ]
  },
  {
   "cell_type": "markdown",
   "metadata": {
    "application/vnd.databricks.v1+cell": {
     "cellMetadata": {},
     "inputWidgets": {},
     "nuid": "51037d78-9d75-4956-a1e3-bdad44abc93c",
     "showTitle": false,
     "tableResultSettingsMap": {},
     "title": ""
    }
   },
   "source": [
    "## Find optimal threshold"
   ]
  },
  {
   "cell_type": "markdown",
   "metadata": {
    "application/vnd.databricks.v1+cell": {
     "cellMetadata": {},
     "inputWidgets": {},
     "nuid": "a7ddfa86-f2b7-48fb-835a-29a12091b2cc",
     "showTitle": false,
     "tableResultSettingsMap": {},
     "title": ""
    }
   },
   "source": [
    "Goal: find the (τ_h, τ_help) thresholds that maximize decision utility on the validation set"
   ]
  },
  {
   "cell_type": "code",
   "execution_count": 0,
   "metadata": {
    "application/vnd.databricks.v1+cell": {
     "cellMetadata": {
      "byteLimit": 2048000,
      "rowLimit": 10000
     },
     "inputWidgets": {},
     "nuid": "2dbb0d14-e621-4c98-923b-1ebbef79a177",
     "showTitle": false,
     "tableResultSettingsMap": {},
     "title": ""
    }
   },
   "outputs": [],
   "source": [
    "import torch\n",
    "import numpy as np\n",
    "\n",
    "# Convert val_logits into softmax probabilities\n",
    "val_probs = torch.softmax(torch.tensor(val_logits), dim=1).numpy()\n"
   ]
  },
  {
   "cell_type": "code",
   "execution_count": 0,
   "metadata": {
    "application/vnd.databricks.v1+cell": {
     "cellMetadata": {
      "byteLimit": 2048000,
      "rowLimit": 10000
     },
     "inputWidgets": {},
     "nuid": "65cbaea0-7be5-4e0b-a2f8-b61f9133675d",
     "showTitle": false,
     "tableResultSettingsMap": {},
     "title": ""
    }
   },
   "outputs": [],
   "source": [
    "from probe.threshold_search import threshold_search_utility\n",
    "\n",
    "best_thresh, best_util, y_pred_best = threshold_search_utility(\n",
    "    probs=val_probs,\n",
    "    y_true=val_labels,\n",
    "    is_natural=val_is_natural,\n",
    "    tau_range=(0.1, 0.9),  # Reasonable range for thresholds\n",
    "    step=0.05,             # 5% increments, can adjust if needed\n",
    "    verbose=True           # Print intermediate results\n",
    ")\n"
   ]
  },
  {
   "cell_type": "code",
   "execution_count": 0,
   "metadata": {
    "application/vnd.databricks.v1+cell": {
     "cellMetadata": {
      "byteLimit": 2048000,
      "rowLimit": 10000
     },
     "inputWidgets": {},
     "nuid": "839fba33-b25f-4fd6-a8b1-3386ab882886",
     "showTitle": false,
     "tableResultSettingsMap": {},
     "title": ""
    }
   },
   "outputs": [],
   "source": [
    "print(\"Best thresholds:\", best_thresh)\n",
    "print(\"Best decision utility:\", best_util)"
   ]
  },
  {
   "cell_type": "markdown",
   "metadata": {
    "application/vnd.databricks.v1+cell": {
     "cellMetadata": {},
     "inputWidgets": {},
     "nuid": "a6f4f30f-e9e5-40c2-a508-0f9fee360a4b",
     "showTitle": false,
     "tableResultSettingsMap": {},
     "title": ""
    }
   },
   "source": [
    "## Test SupCon Probe"
   ]
  },
  {
   "cell_type": "code",
   "execution_count": 0,
   "metadata": {
    "application/vnd.databricks.v1+cell": {
     "cellMetadata": {
      "byteLimit": 2048000,
      "rowLimit": 10000
     },
     "inputWidgets": {},
     "nuid": "6d044324-2471-4c4b-947f-f020226c773e",
     "showTitle": false,
     "tableResultSettingsMap": {},
     "title": ""
    }
   },
   "outputs": [],
   "source": [
    "from sklearn.metrics import classification_report\n",
    "import numpy as np\n",
    "\n",
    "X_test, y_test, test_df = test_data  # returned from train_supcon_probe\n",
    "\n",
    "# with mlflow.start_run(run_name=\"eval_supcon_probe\"):\n",
    "y_pred, y_true, is_natural, logits, probs = test_supcon_probe(\n",
    "    X_test=X_test,\n",
    "    y_test=y_test,\n",
    "    test_df=test_df,\n",
    "    checkpoint_path=CHECKPOINT_PATH,\n",
    "    input_dim=PCA_DIM+3,\n",
    "    projection_dim=PROJECTION_DIM,\n",
    "    hidden_dim=HIDDEN_DIM,\n",
    "    model_type=\"supcon\",\n",
    "    log_to_mlflow=True,\n",
    "    return_probs=True\n",
    ")\n",
    "\n",
    "print(\"Classification Report:\")\n",
    "print(classification_report(y_true, y_pred))\n"
   ]
  },
  {
   "cell_type": "code",
   "execution_count": 0,
   "metadata": {
    "application/vnd.databricks.v1+cell": {
     "cellMetadata": {
      "byteLimit": 2048000,
      "rowLimit": 10000
     },
     "inputWidgets": {},
     "nuid": "de724878-96f0-4102-8410-41ce2e9adee2",
     "showTitle": false,
     "tableResultSettingsMap": {},
     "title": ""
    }
   },
   "outputs": [],
   "source": [
    "import matplotlib.pyplot as plt\n",
    "import seaborn as sns\n",
    "from sklearn.metrics import confusion_matrix\n",
    "\n",
    "def plot_confusion_matrix(y_true, y_pred, class_names, normalize=False, save_path=None):\n",
    "    cm = confusion_matrix(y_true, y_pred)\n",
    "    if normalize:\n",
    "        cm = cm.astype(\"float\") / cm.sum(axis=1)[:, np.newaxis]\n",
    "    plt.figure(figsize=(6, 5))\n",
    "    sns.heatmap(cm, annot=True, fmt=\".2f\" if normalize else \"d\", cmap=\"Blues\",\n",
    "                xticklabels=class_names, yticklabels=class_names)\n",
    "    plt.xlabel(\"Predicted Label\")\n",
    "    plt.ylabel(\"True Label\")\n",
    "    plt.title(\"Confusion Matrix\" + (\" (Normalized)\" if normalize else \"\"))\n",
    "    plt.tight_layout()\n",
    "    if save_path:\n",
    "        plt.savefig(save_path, dpi=300)\n",
    "    plt.show()\n",
    "\n",
    "class_names = [\"Harmful\", \"Neutral\", \"Helpful\"]\n",
    "plot_confusion_matrix(y_test, y_pred, class_names, normalize=True, save_path=\"figs/confusion_matrix_normalized.png\")\n"
   ]
  },
  {
   "cell_type": "code",
   "execution_count": 0,
   "metadata": {
    "application/vnd.databricks.v1+cell": {
     "cellMetadata": {
      "byteLimit": 2048000,
      "rowLimit": 10000
     },
     "inputWidgets": {},
     "nuid": "36757b30-fa6c-403a-9de4-ff26d4f6c92e",
     "showTitle": false,
     "tableResultSettingsMap": {},
     "title": ""
    }
   },
   "outputs": [],
   "source": [
    "from sklearn.metrics import classification_report\n",
    "\n",
    "report = classification_report(y_test, y_pred, output_dict=True)\n",
    "f1_scores = [report[str(i)][\"f1-score\"] for i in range(3)]\n",
    "\n",
    "plt.figure(figsize=(5, 4))\n",
    "sns.barplot(x=class_names, y=f1_scores, palette=\"pastel\")\n",
    "plt.title(\"F1-score per Class\")\n",
    "plt.ylim(0, 1)\n",
    "plt.ylabel(\"F1-score\")\n",
    "plt.tight_layout()\n",
    "plt.savefig(\"figs/f1_score_per_class.png\", dpi=300)\n",
    "plt.show()\n"
   ]
  },
  {
   "cell_type": "markdown",
   "metadata": {
    "application/vnd.databricks.v1+cell": {
     "cellMetadata": {},
     "inputWidgets": {},
     "nuid": "d4bb4c26-c353-4699-b7fd-3138c62616d0",
     "showTitle": false,
     "tableResultSettingsMap": {},
     "title": ""
    }
   },
   "source": [
    "## End-to-End Testing with Threshold"
   ]
  },
  {
   "cell_type": "code",
   "execution_count": 0,
   "metadata": {
    "application/vnd.databricks.v1+cell": {
     "cellMetadata": {
      "byteLimit": 2048000,
      "rowLimit": 10000
     },
     "inputWidgets": {},
     "nuid": "8fd59ae5-c009-49b2-b9b8-d64a161599cd",
     "showTitle": false,
     "tableResultSettingsMap": {},
     "title": ""
    }
   },
   "outputs": [],
   "source": [
    "from probe.wrapper import ProbeWrapper\n",
    "\n",
    "# Unpack test data\n",
    "X_test, y_test, test_df = test_data\n",
    "\n",
    "# Initialize probe wrapper\n",
    "probe = ProbeWrapper(\n",
    "    checkpoint_path=CHECKPOINT_PATH,\n",
    "    pca=pca,\n",
    "    scaler=scaler,\n",
    "    layers=LAYERS,\n",
    "    input_dim=PCA_DIM + 3,\n",
    "    projection_dim=PROJECTION_DIM,\n",
    "    hidden_dim=HIDDEN_DIM,\n",
    "    device=\"cuda\",\n",
    "    threshold=best_thresh\n",
    ")\n"
   ]
  },
  {
   "cell_type": "code",
   "execution_count": 0,
   "metadata": {
    "application/vnd.databricks.v1+cell": {
     "cellMetadata": {
      "byteLimit": 2048000,
      "rowLimit": 10000
     },
     "inputWidgets": {},
     "nuid": "36950064-2913-41fe-90b4-022b3b77c430",
     "showTitle": false,
     "tableResultSettingsMap": {},
     "title": ""
    }
   },
   "outputs": [],
   "source": [
    "from transformers import AutoModelForCausalLM, AutoTokenizer\n",
    "# === Config ===\n",
    "MODEL_NAME = \"Qwen/QwQ-32B-Preview\"\n",
    "# === Load Model and Tokenizer ===\n",
    "print(\"Loading model...\")\n",
    "model = AutoModelForCausalLM.from_pretrained(\n",
    "    MODEL_NAME,\n",
    "    torch_dtype=torch.float16,\n",
    "    device_map=\"auto\"\n",
    ")\n"
   ]
  },
  {
   "cell_type": "code",
   "execution_count": 0,
   "metadata": {
    "application/vnd.databricks.v1+cell": {
     "cellMetadata": {
      "byteLimit": 2048000,
      "rowLimit": 10000
     },
     "inputWidgets": {},
     "nuid": "0fd7a7b9-ad39-481e-b56c-3daf45bcf715",
     "showTitle": false,
     "tableResultSettingsMap": {},
     "title": ""
    }
   },
   "outputs": [],
   "source": [
    "tokenizer = AutoTokenizer.from_pretrained(MODEL_NAME, padding_side=\"left\")"
   ]
  },
  {
   "cell_type": "code",
   "execution_count": 0,
   "metadata": {
    "application/vnd.databricks.v1+cell": {
     "cellMetadata": {
      "byteLimit": 2048000,
      "rowLimit": 10000
     },
     "inputWidgets": {},
     "nuid": "850e1356-e94f-4a34-a051-aa8f7f1402f4",
     "showTitle": false,
     "tableResultSettingsMap": {},
     "title": ""
    }
   },
   "outputs": [],
   "source": [
    "model.eval()"
   ]
  },
  {
   "cell_type": "code",
   "execution_count": 0,
   "metadata": {
    "application/vnd.databricks.v1+cell": {
     "cellMetadata": {
      "byteLimit": 2048000,
      "rowLimit": 10000
     },
     "inputWidgets": {},
     "nuid": "13da64ea-2a0d-4788-a6a2-631a96cd7c6d",
     "showTitle": false,
     "tableResultSettingsMap": {},
     "title": ""
    }
   },
   "outputs": [],
   "source": [
    "import json\n",
    "from typing import List\n",
    "from tqdm import tqdm\n",
    "\n",
    "def run_batched_decoding_with_probe(\n",
    "    matching_indices: List[int],\n",
    "    problem_ids: List[str],\n",
    "    data_generator,\n",
    "    probe,\n",
    "    sample_src: str = 'math500',\n",
    "    prompt_lang: str = 'ch',\n",
    "    batch_size: int = 4,\n",
    "    save_path: str = \"math500_decoding_w_probe_w_threshold_outputs.json\"\n",
    "):\n",
    "    output = []\n",
    "    assert len(matching_indices) == len(problem_ids), \"Mismatch between indices and problem IDs.\"\n",
    "\n",
    "    for start_idx in tqdm(range(0, len(matching_indices), batch_size)):\n",
    "        end_idx = start_idx + batch_size\n",
    "        one_batch_indices = matching_indices[start_idx:end_idx]\n",
    "        one_batch_problem_ids = problem_ids[start_idx:end_idx]\n",
    "\n",
    "        # Run the generation function\n",
    "        generated_texts, token_counts, probe_logs = data_generator.generate_constrained_response_with_probe(\n",
    "            sample_idxs=one_batch_indices,\n",
    "            prompt_lang=prompt_lang,\n",
    "            probe=probe\n",
    "        )\n",
    "\n",
    "        # Accumulate results\n",
    "        for i in range(len(one_batch_indices)):\n",
    "            output.append({\n",
    "                \"sample_src\": sample_src,\n",
    "                \"sample_idx\": one_batch_indices[i],\n",
    "                \"problem_id\": one_batch_problem_ids[i],\n",
    "                \"probe_log\": probe_logs[i],\n",
    "                \"token_count\": token_counts[i],\n",
    "                \"generated_text\": generated_texts[i]\n",
    "            })\n",
    "\n",
    "    # Save the full output\n",
    "    with open(save_path, \"w\", encoding=\"utf-8\") as f:\n",
    "        json.dump(output, f, indent=2, ensure_ascii=False)\n",
    "\n",
    "    print(f\"Saved output for {len(output)} samples to {save_path}\")\n"
   ]
  },
  {
   "cell_type": "code",
   "execution_count": 0,
   "metadata": {
    "application/vnd.databricks.v1+cell": {
     "cellMetadata": {
      "byteLimit": 2048000,
      "rowLimit": 10000
     },
     "inputWidgets": {},
     "nuid": "255b4de0-e3e9-4bf8-b199-15951261adb2",
     "showTitle": false,
     "tableResultSettingsMap": {},
     "title": ""
    }
   },
   "outputs": [],
   "source": [
    "from utils.constrained_decoding import generate_probe_constrained_response_batch\n",
    "from utils.data_generator import DataGenerator"
   ]
  },
  {
   "cell_type": "code",
   "execution_count": 0,
   "metadata": {
    "application/vnd.databricks.v1+cell": {
     "cellMetadata": {
      "byteLimit": 2048000,
      "rowLimit": 10000
     },
     "inputWidgets": {},
     "nuid": "f68d39bc-c379-47a4-bf42-1c24b495a599",
     "showTitle": false,
     "tableResultSettingsMap": {},
     "title": ""
    }
   },
   "outputs": [],
   "source": [
    "from box import Box\n",
    "import yaml\n",
    "\n",
    "with open(\"config.yaml\", \"r\") as f:\n",
    "    config = Box(yaml.safe_load(f))"
   ]
  },
  {
   "cell_type": "markdown",
   "metadata": {
    "application/vnd.databricks.v1+cell": {
     "cellMetadata": {},
     "inputWidgets": {},
     "nuid": "5fbad4d3-06e5-4a7a-9b0a-8850b25dcfdb",
     "showTitle": false,
     "tableResultSettingsMap": {},
     "title": ""
    }
   },
   "source": [
    "### Math 500 Test"
   ]
  },
  {
   "cell_type": "code",
   "execution_count": 0,
   "metadata": {
    "application/vnd.databricks.v1+cell": {
     "cellMetadata": {
      "byteLimit": 2048000,
      "rowLimit": 10000
     },
     "inputWidgets": {},
     "nuid": "e1d3b28a-a4d1-4ab6-95c7-4d86ead318c5",
     "showTitle": false,
     "tableResultSettingsMap": {},
     "title": ""
    }
   },
   "outputs": [],
   "source": [
    "math500_problem_ids = list(set(test_df[test_df[\"dataset_src\"]=='math500']['problem_id'].to_list()))\n",
    "\n",
    "dataset = pd.read_csv(\"/Workspace/Users/xinji@pennmedicine.upenn.edu/research/Language-Mixing/translation/data/translated_math500.csv\")"
   ]
  },
  {
   "cell_type": "code",
   "execution_count": 0,
   "metadata": {
    "application/vnd.databricks.v1+cell": {
     "cellMetadata": {
      "byteLimit": 2048000,
      "rowLimit": 10000
     },
     "inputWidgets": {},
     "nuid": "40dca029-e4c0-4cdf-8e85-53f4bbdfbef0",
     "showTitle": false,
     "tableResultSettingsMap": {},
     "title": ""
    }
   },
   "outputs": [],
   "source": [
    "len(math500_problem_ids)"
   ]
  },
  {
   "cell_type": "code",
   "execution_count": 0,
   "metadata": {
    "application/vnd.databricks.v1+cell": {
     "cellMetadata": {
      "byteLimit": 2048000,
      "rowLimit": 10000
     },
     "inputWidgets": {},
     "nuid": "c01d2456-35c6-446b-9d00-cd7982cb68b5",
     "showTitle": false,
     "tableResultSettingsMap": {},
     "title": ""
    }
   },
   "outputs": [],
   "source": [
    "matching_indices = dataset[dataset[\"problem_id\"].isin(math500_problem_ids)].index.tolist()\n"
   ]
  },
  {
   "cell_type": "code",
   "execution_count": 0,
   "metadata": {
    "application/vnd.databricks.v1+cell": {
     "cellMetadata": {
      "byteLimit": 2048000,
      "rowLimit": 10000
     },
     "inputWidgets": {},
     "nuid": "609b7229-ec1f-4762-8d0e-c6b8ba2b33be",
     "showTitle": false,
     "tableResultSettingsMap": {},
     "title": ""
    }
   },
   "outputs": [],
   "source": [
    "print(f\"Found {len(matching_indices)} matching indices.\")\n",
    "print(\"Example indices:\", matching_indices[:5])  # show first 5"
   ]
  },
  {
   "cell_type": "code",
   "execution_count": 0,
   "metadata": {
    "application/vnd.databricks.v1+cell": {
     "cellMetadata": {
      "byteLimit": 2048000,
      "rowLimit": 10000
     },
     "inputWidgets": {},
     "nuid": "92385b78-47be-49be-a3fe-6f183da23e25",
     "showTitle": false,
     "tableResultSettingsMap": {},
     "title": ""
    }
   },
   "outputs": [],
   "source": [
    "data_generator = DataGenerator(cfg=config, model=model, tokenizer=tokenizer, dataset=dataset)"
   ]
  },
  {
   "cell_type": "code",
   "execution_count": 0,
   "metadata": {
    "application/vnd.databricks.v1+cell": {
     "cellMetadata": {
      "byteLimit": 2048000,
      "rowLimit": 10000
     },
     "inputWidgets": {},
     "nuid": "33fa6c82-d80f-48f3-9cc4-cb634770ecaf",
     "showTitle": false,
     "tableResultSettingsMap": {},
     "title": ""
    }
   },
   "outputs": [],
   "source": [
    "run_batched_decoding_with_probe(\n",
    "    matching_indices=matching_indices,\n",
    "    problem_ids=math500_problem_ids,\n",
    "    data_generator=data_generator,\n",
    "    probe=probe,\n",
    "    prompt_lang='ch',\n",
    "    batch_size=4,\n",
    "    save_path=\"math500_decoding_w_probe_w_threshold_outputs.json\"\n",
    ")"
   ]
  },
  {
   "cell_type": "markdown",
   "metadata": {
    "application/vnd.databricks.v1+cell": {
     "cellMetadata": {},
     "inputWidgets": {},
     "nuid": "bccfe541-89a9-4151-b26f-5545eaf71393",
     "showTitle": false,
     "tableResultSettingsMap": {},
     "title": ""
    }
   },
   "source": [
    "### Gaokao Math QA Test"
   ]
  },
  {
   "cell_type": "code",
   "execution_count": 0,
   "metadata": {
    "application/vnd.databricks.v1+cell": {
     "cellMetadata": {
      "byteLimit": 2048000,
      "rowLimit": 10000
     },
     "inputWidgets": {},
     "nuid": "69c43aa0-59cb-43aa-8013-3b7af8a2dc9e",
     "showTitle": false,
     "tableResultSettingsMap": {},
     "title": ""
    }
   },
   "outputs": [],
   "source": [
    "gaokao_mathqa_problem_ids = list(set(test_df[test_df[\"dataset_src\"]=='gaokao_mathqa']['problem_id'].to_list()))\n",
    "dataset = pd.read_csv(\"/Workspace/Users/xinji@pennmedicine.upenn.edu/research/Language-Mixing/translation/data/translated_gaokao_mathqa.csv\")"
   ]
  },
  {
   "cell_type": "code",
   "execution_count": 0,
   "metadata": {
    "application/vnd.databricks.v1+cell": {
     "cellMetadata": {
      "byteLimit": 2048000,
      "rowLimit": 10000
     },
     "inputWidgets": {},
     "nuid": "49cc7358-bf8d-413b-999f-3faaa355f601",
     "showTitle": false,
     "tableResultSettingsMap": {},
     "title": ""
    }
   },
   "outputs": [],
   "source": [
    "len(gaokao_mathqa_problem_ids)"
   ]
  },
  {
   "cell_type": "code",
   "execution_count": 0,
   "metadata": {
    "application/vnd.databricks.v1+cell": {
     "cellMetadata": {
      "byteLimit": 2048000,
      "rowLimit": 10000
     },
     "inputWidgets": {},
     "nuid": "1b88cbea-cc9d-49ce-aaee-981edbc25299",
     "showTitle": false,
     "tableResultSettingsMap": {},
     "title": ""
    }
   },
   "outputs": [],
   "source": [
    "matching_indices = dataset[dataset[\"problem_id\"].isin(gaokao_mathqa_problem_ids)].index.tolist()"
   ]
  },
  {
   "cell_type": "code",
   "execution_count": 0,
   "metadata": {
    "application/vnd.databricks.v1+cell": {
     "cellMetadata": {
      "byteLimit": 2048000,
      "rowLimit": 10000
     },
     "inputWidgets": {},
     "nuid": "65cb8ea6-acd1-4e45-8ae8-cf4fb665a0ab",
     "showTitle": false,
     "tableResultSettingsMap": {},
     "title": ""
    }
   },
   "outputs": [],
   "source": [
    "print(f\"Found {len(matching_indices)} matching indices.\")\n",
    "print(\"First 5 problem ids:\", gaokao_mathqa_problem_ids[:5])  # show first 5\n",
    "print(\"First 5 indices:\", matching_indices[:5])  # show first 5"
   ]
  },
  {
   "cell_type": "code",
   "execution_count": 0,
   "metadata": {
    "application/vnd.databricks.v1+cell": {
     "cellMetadata": {
      "byteLimit": 2048000,
      "rowLimit": 10000
     },
     "inputWidgets": {},
     "nuid": "41b27034-e7c7-40f1-984b-ac0ff8ae745d",
     "showTitle": false,
     "tableResultSettingsMap": {},
     "title": ""
    }
   },
   "outputs": [],
   "source": [
    "len(matching_indices)"
   ]
  },
  {
   "cell_type": "code",
   "execution_count": 0,
   "metadata": {
    "application/vnd.databricks.v1+cell": {
     "cellMetadata": {
      "byteLimit": 2048000,
      "rowLimit": 10000
     },
     "inputWidgets": {},
     "nuid": "285c41e3-caa6-48fb-9cad-a64d86699829",
     "showTitle": false,
     "tableResultSettingsMap": {},
     "title": ""
    }
   },
   "outputs": [],
   "source": [
    "data_generator = DataGenerator(cfg=config, model=model, tokenizer=tokenizer, dataset=dataset)"
   ]
  },
  {
   "cell_type": "code",
   "execution_count": 0,
   "metadata": {
    "application/vnd.databricks.v1+cell": {
     "cellMetadata": {
      "byteLimit": 2048000,
      "rowLimit": 10000
     },
     "inputWidgets": {},
     "nuid": "d751286f-7fa3-465e-894c-4ecab142ad7e",
     "showTitle": false,
     "tableResultSettingsMap": {},
     "title": ""
    }
   },
   "outputs": [],
   "source": [
    "run_batched_decoding_with_probe(\n",
    "    matching_indices=matching_indices,\n",
    "    problem_ids=gaokao_mathqa_problem_ids,\n",
    "    data_generator=data_generator,\n",
    "    probe=probe,\n",
    "    sample_src='gaokao_mathqa',\n",
    "    prompt_lang='ch',\n",
    "    batch_size=4,\n",
    "    save_path=\"gaokao_mathqa_decoding_w_probe_w_threshold_outputs.json\"\n",
    ")"
   ]
  },
  {
   "cell_type": "markdown",
   "metadata": {
    "application/vnd.databricks.v1+cell": {
     "cellMetadata": {},
     "inputWidgets": {},
     "nuid": "f356f5cb-7bd5-4377-98ba-f6c8c6e3c514",
     "showTitle": false,
     "tableResultSettingsMap": {},
     "title": ""
    }
   },
   "source": [
    "### Gaokao _Cloze_ Test"
   ]
  },
  {
   "cell_type": "code",
   "execution_count": 0,
   "metadata": {
    "application/vnd.databricks.v1+cell": {
     "cellMetadata": {
      "byteLimit": 2048000,
      "rowLimit": 10000
     },
     "inputWidgets": {},
     "nuid": "bf11a583-f85b-47e1-9ebc-67437d874b61",
     "showTitle": false,
     "tableResultSettingsMap": {},
     "title": ""
    }
   },
   "outputs": [],
   "source": [
    "gaokao_cloze_problem_ids = list(set(test_df[test_df[\"dataset_src\"]=='gaokao_cloze']['problem_id'].to_list()))\n",
    "dataset = pd.read_csv(\"/Workspace/Users/xinji@pennmedicine.upenn.edu/research/Language-Mixing/translation/data/translated_gaokao_cloze.csv\")"
   ]
  },
  {
   "cell_type": "code",
   "execution_count": 0,
   "metadata": {
    "application/vnd.databricks.v1+cell": {
     "cellMetadata": {
      "byteLimit": 2048000,
      "rowLimit": 10000
     },
     "inputWidgets": {},
     "nuid": "38d8b1bc-1235-444a-b332-ca3228530433",
     "showTitle": false,
     "tableResultSettingsMap": {},
     "title": ""
    }
   },
   "outputs": [],
   "source": [
    "len(gaokao_cloze_problem_ids)"
   ]
  },
  {
   "cell_type": "code",
   "execution_count": 0,
   "metadata": {
    "application/vnd.databricks.v1+cell": {
     "cellMetadata": {
      "byteLimit": 2048000,
      "rowLimit": 10000
     },
     "inputWidgets": {},
     "nuid": "2d12bf9e-36b4-469a-ab61-a2fa3eaa9ec6",
     "showTitle": false,
     "tableResultSettingsMap": {},
     "title": ""
    }
   },
   "outputs": [],
   "source": [
    "matching_indices = dataset[dataset[\"problem_id\"].isin(gaokao_cloze_problem_ids)].index.tolist()"
   ]
  },
  {
   "cell_type": "code",
   "execution_count": 0,
   "metadata": {
    "application/vnd.databricks.v1+cell": {
     "cellMetadata": {
      "byteLimit": 2048000,
      "rowLimit": 10000
     },
     "inputWidgets": {},
     "nuid": "614c803c-1638-4321-b7d2-48fd05726c09",
     "showTitle": false,
     "tableResultSettingsMap": {},
     "title": ""
    }
   },
   "outputs": [],
   "source": [
    "print(f\"Found {len(matching_indices)} matching indices.\")\n",
    "print(\"First 5 problem ids:\", gaokao_cloze_problem_ids[:5])  # show first 5\n",
    "print(\"First 5 indices:\", matching_indices[:5])  # show first 5"
   ]
  },
  {
   "cell_type": "code",
   "execution_count": 0,
   "metadata": {
    "application/vnd.databricks.v1+cell": {
     "cellMetadata": {
      "byteLimit": 2048000,
      "rowLimit": 10000
     },
     "inputWidgets": {},
     "nuid": "3c08c15f-354f-4122-9e4e-c7fe48cd0fe3",
     "showTitle": false,
     "tableResultSettingsMap": {},
     "title": ""
    }
   },
   "outputs": [],
   "source": [
    "len(matching_indices)"
   ]
  },
  {
   "cell_type": "code",
   "execution_count": 0,
   "metadata": {
    "application/vnd.databricks.v1+cell": {
     "cellMetadata": {
      "byteLimit": 2048000,
      "rowLimit": 10000
     },
     "inputWidgets": {},
     "nuid": "195389fe-3d1d-4d27-ae7c-23988db60d49",
     "showTitle": false,
     "tableResultSettingsMap": {},
     "title": ""
    }
   },
   "outputs": [],
   "source": [
    "data_generator = DataGenerator(cfg=config, model=model, tokenizer=tokenizer, dataset=dataset)"
   ]
  },
  {
   "cell_type": "code",
   "execution_count": 0,
   "metadata": {
    "application/vnd.databricks.v1+cell": {
     "cellMetadata": {
      "byteLimit": 2048000,
      "rowLimit": 10000
     },
     "inputWidgets": {},
     "nuid": "f7c7143e-fb18-4dd0-9eb6-95635efe226a",
     "showTitle": false,
     "tableResultSettingsMap": {},
     "title": ""
    }
   },
   "outputs": [],
   "source": [
    "run_batched_decoding_with_probe(\n",
    "    matching_indices=matching_indices,\n",
    "    problem_ids=gaokao_cloze_problem_ids,\n",
    "    data_generator=data_generator,\n",
    "    probe=probe,\n",
    "    sample_src = 'gaokao_cloze',\n",
    "    prompt_lang='ch',\n",
    "    batch_size=4,\n",
    "    save_path=\"gaokao_cloze_decoding_w_probe_w_threshold_outputs.json\"\n",
    ")"
   ]
  }
 ],
 "metadata": {
  "application/vnd.databricks.v1+notebook": {
   "computePreferences": null,
   "dashboards": [],
   "environmentMetadata": {
    "base_environment": "",
    "environment_version": "2"
   },
   "inputWidgetPreferences": null,
   "language": "python",
   "notebookMetadata": {
    "pythonIndentUnit": 4
   },
   "notebookName": "train_and_evaluate_probe_w_threshold.ipynb",
   "widgets": {}
  },
  "language_info": {
   "name": "python"
  }
 },
 "nbformat": 4,
 "nbformat_minor": 0
}
